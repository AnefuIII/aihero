{
 "cells": [
  {
   "cell_type": "markdown",
   "id": "dc271d0f-cec8-4c1a-9e3b-5060e6080b7e",
   "metadata": {},
   "source": [
    "This project develops a conversational agent capable of answering questions about the Microsoft AutoGen framework. The agent ingests documentation from the official GitHub repository, enabling it to provide detailed, context-aware responses on topics ranging from basic agent creation to complex multi-agent workflows. This serves as a practical demonstration of building an intelligent system for code documentation."
   ]
  },
  {
   "cell_type": "markdown",
   "id": "10b4475a-084a-4be3-8887-00a64e7a168e",
   "metadata": {},
   "source": [
    "### complete function"
   ]
  },
  {
   "cell_type": "code",
   "execution_count": 1,
   "id": "e8109083-df7e-486d-9c82-816cb08333e1",
   "metadata": {},
   "outputs": [],
   "source": [
    "import io\n",
    "import zipfile\n",
    "import requests\n",
    "import frontmatter\n",
    "\n",
    "def read_repo_data(repo_owner, repo_name):\n",
    "    \"\"\"\n",
    "    Download and parse all markdown files from a GitHub repository.\n",
    "    \n",
    "    Args:\n",
    "        repo_owner: GitHub username or organization\n",
    "        repo_name: Repository name\n",
    "    \n",
    "    Returns:\n",
    "        List of dictionaries containing file content and metadata\n",
    "    \"\"\"\n",
    "    # The URL has been updated to use the direct archive link\n",
    "    url = f'https://github.com/{repo_owner}/{repo_name}/archive/refs/heads/main.zip'\n",
    "    resp = requests.get(url)\n",
    "    \n",
    "    if resp.status_code != 200:\n",
    "        raise Exception(f\"Failed to download repository: {resp.status_code}\")\n",
    "\n",
    "    repository_data = []\n",
    "    try:\n",
    "        zf = zipfile.ZipFile(io.BytesIO(resp.content))\n",
    "        \n",
    "        for file_info in zf.infolist():\n",
    "            filename = file_info.filename\n",
    "            filename_lower = filename.lower()\n",
    "            \n",
    "            if not (filename_lower.endswith('.md') or filename_lower.endswith('.mdx')):\n",
    "                continue\n",
    "\n",
    "            try:\n",
    "                with zf.open(file_info) as f_in:\n",
    "                    content = f_in.read().decode('utf-8', errors='ignore')\n",
    "                    post = frontmatter.loads(content)\n",
    "                    data = post.to_dict()\n",
    "                    data['filename'] = filename\n",
    "                    repository_data.append(data)\n",
    "            except Exception as e:\n",
    "                print(f\"Error processing {filename}: {e}\")\n",
    "                continue\n",
    "    finally:\n",
    "        # Ensure the zip file is closed, even if an error occurs\n",
    "        if 'zf' in locals():\n",
    "            zf.close()\n",
    "            \n",
    "    return repository_data\n"
   ]
  },
  {
   "cell_type": "code",
   "execution_count": 3,
   "id": "1093050b-9f4e-4b83-9581-368a485046f5",
   "metadata": {},
   "outputs": [
    {
     "name": "stdout",
     "output_type": "stream",
     "text": [
      "Successfully processed 161 markdown files.\n",
      "\n",
      "Example of one file's data:\n",
      "{'content': '<!-- Thank you for your contribution! Please review https://microsoft.github.io/autogen/docs/Contribute before opening a pull request. -->\\n\\n<!-- Please add a reviewer to the assignee section when you create a PR. If you don\\'t have the access to it, we will shortly find a reviewer and assign them to your PR. -->\\n\\n## Why are these changes needed?\\n\\n<!-- Please give a short summary of the change and the problem this solves. -->\\n\\n## Related issue number\\n\\n<!-- For example: \"Closes #1234\" -->\\n\\n## Checks\\n\\n- [ ] I\\'ve included any doc changes needed for <https://microsoft.github.io/autogen/>. See <https://github.com/microsoft/autogen/blob/main/CONTRIBUTING.md> to build and test documentation locally.\\n- [ ] I\\'ve added tests (if relevant) corresponding to the changes introduced in this PR.\\n- [ ] I\\'ve made sure all auto checks have passed.', 'filename': 'autogen-main/.github/PULL_REQUEST_TEMPLATE.md'}\n"
     ]
    }
   ],
   "source": [
    "# Example of how to use it with the project repository\n",
    "data = read_repo_data('microsoft', 'autogen')\n",
    "print(f\"Successfully processed {len(data)} markdown files.\")\n",
    "\n",
    "# To see the structure of the data you've ingested\n",
    "if data:\n",
    "    print(\"\\nExample of one file's data:\")\n",
    "    print(data[0])"
   ]
  },
  {
   "cell_type": "code",
   "execution_count": null,
   "id": "edd926a2-755b-43b5-9252-57580a782367",
   "metadata": {},
   "outputs": [],
   "source": []
  }
 ],
 "metadata": {
  "kernelspec": {
   "display_name": "Python 3 (ipykernel)",
   "language": "python",
   "name": "python3"
  },
  "language_info": {
   "codemirror_mode": {
    "name": "ipython",
    "version": 3
   },
   "file_extension": ".py",
   "mimetype": "text/x-python",
   "name": "python",
   "nbconvert_exporter": "python",
   "pygments_lexer": "ipython3",
   "version": "3.10.18"
  }
 },
 "nbformat": 4,
 "nbformat_minor": 5
}
